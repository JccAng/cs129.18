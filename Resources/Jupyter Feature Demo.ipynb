{
 "cells": [
  {
   "cell_type": "markdown",
   "metadata": {},
   "source": [
    "# This is Markdown Heading 1\n",
    "## This is a less loud Markdown Heading 2\n",
    "### This is still loud, but not as loud as the prior two. Markdown Heading 3.\n",
    "---\n",
    "\n",
    "Markdown is a **lightweight markup language with plain text formatting syntax**. It is designed so that it can be converted to HTML and many other formats using a tool by the same name. Markdown is often used to format readme files, for writing messages in online discussion forums, and to create rich text using a plain text editor."
   ]
  },
  {
   "cell_type": "markdown",
   "metadata": {},
   "source": [
    "### Text Formatting\n",
    "\n",
    "You can write plain old text here.\n",
    "\n",
    "*Or make it italicized,* **or bold**, `or as inline code`.\n",
    "\n",
    "Here's a bit of block code:\n",
    "\n",
    "```\n",
    "public class Main {\n",
    "    public static void main(String[] args) {\n",
    "        System.out.println(\"Hello, World!\");\n",
    "    }\n",
    "}\n",
    "```\n",
    "\n",
    "### Lists\n",
    "\n",
    "* One\n",
    "* Two\n",
    "* Three\n",
    "---\n",
    "1. Eggs\n",
    "2. Butter\n",
    "3. Salt and Pepper"
   ]
  },
  {
   "cell_type": "markdown",
   "metadata": {},
   "source": [
    "### Code Demos"
   ]
  },
  {
   "cell_type": "markdown",
   "metadata": {},
   "source": [
    "Here are some demos for python and the functionality it has with Jupyter.Some of these bindings are unique, like that with matplotlib"
   ]
  },
  {
   "cell_type": "code",
   "execution_count": 9,
   "metadata": {},
   "outputs": [
    {
     "name": "stdout",
     "output_type": "stream",
     "text": [
      "[0, 4, 16]\n"
     ]
    }
   ],
   "source": [
    "# Prints \"[0, 4, 16]\"\n",
    "nums = [0, 1, 2, 3, 4]\n",
    "even_squares = [x ** 2 for x in nums if x % 2 == 0]\n",
    "print(even_squares)  "
   ]
  },
  {
   "cell_type": "code",
   "execution_count": 10,
   "metadata": {
    "collapsed": true
   },
   "outputs": [],
   "source": [
    "import pandas as pd\n",
    "\n",
    "df = pd.read_csv(\"coffeeshops.csv\")"
   ]
  },
  {
   "cell_type": "code",
   "execution_count": 11,
   "metadata": {},
   "outputs": [
    {
     "data": {
      "text/html": [
       "<div>\n",
       "<style>\n",
       "    .dataframe thead tr:only-child th {\n",
       "        text-align: right;\n",
       "    }\n",
       "\n",
       "    .dataframe thead th {\n",
       "        text-align: left;\n",
       "    }\n",
       "\n",
       "    .dataframe tbody tr th {\n",
       "        vertical-align: top;\n",
       "    }\n",
       "</style>\n",
       "<table border=\"1\" class=\"dataframe\">\n",
       "  <thead>\n",
       "    <tr style=\"text-align: right;\">\n",
       "      <th></th>\n",
       "      <th>id</th>\n",
       "      <th>name</th>\n",
       "      <th>lat</th>\n",
       "      <th>lng</th>\n",
       "      <th>checkins</th>\n",
       "      <th>address</th>\n",
       "    </tr>\n",
       "  </thead>\n",
       "  <tbody>\n",
       "    <tr>\n",
       "      <th>0</th>\n",
       "      <td>4b78d398f964a520cee32ee3</td>\n",
       "      <td>Starbucks Coffee</td>\n",
       "      <td>14.734710</td>\n",
       "      <td>121.057599</td>\n",
       "      <td>10428</td>\n",
       "      <td>Ground Flr, SM City Fairview (Annex 1)</td>\n",
       "    </tr>\n",
       "    <tr>\n",
       "      <th>1</th>\n",
       "      <td>53055beb498e87041e7204f9</td>\n",
       "      <td>Starbucks Coffee</td>\n",
       "      <td>14.735735</td>\n",
       "      <td>121.060213</td>\n",
       "      <td>3793</td>\n",
       "      <td>Fairview Terraces, Quirino Hwy</td>\n",
       "    </tr>\n",
       "    <tr>\n",
       "      <th>2</th>\n",
       "      <td>4bc1f1a6f8219c74a0f7b310</td>\n",
       "      <td>The Coffee Bean &amp; Tea Leaf</td>\n",
       "      <td>14.736308</td>\n",
       "      <td>121.058135</td>\n",
       "      <td>17441</td>\n",
       "      <td>G/F Gateway Mall, Gen Roxas Ave</td>\n",
       "    </tr>\n",
       "    <tr>\n",
       "      <th>3</th>\n",
       "      <td>4e5b077352b1b78b81b213b9</td>\n",
       "      <td>Starbucks Coffee</td>\n",
       "      <td>14.734639</td>\n",
       "      <td>121.059474</td>\n",
       "      <td>4116</td>\n",
       "      <td>2nd Flr, SM City Fairview (Main Bldg)</td>\n",
       "    </tr>\n",
       "    <tr>\n",
       "      <th>4</th>\n",
       "      <td>4ceb3522e888f04d2161516b</td>\n",
       "      <td>Starbucks Coffee</td>\n",
       "      <td>14.553593</td>\n",
       "      <td>121.050662</td>\n",
       "      <td>40149</td>\n",
       "      <td>Crossroads, Bonifacio Global City</td>\n",
       "    </tr>\n",
       "    <tr>\n",
       "      <th>5</th>\n",
       "      <td>5312cb21498e14478618f0b1</td>\n",
       "      <td>Seattle's Best Coffee</td>\n",
       "      <td>14.737156</td>\n",
       "      <td>121.059300</td>\n",
       "      <td>1228</td>\n",
       "      <td>Fairview Terraces, Quirino Hwy</td>\n",
       "    </tr>\n",
       "    <tr>\n",
       "      <th>6</th>\n",
       "      <td>4dd26268cc3f7f8c122e7e1e</td>\n",
       "      <td>Starbucks Coffee</td>\n",
       "      <td>14.552860</td>\n",
       "      <td>121.025119</td>\n",
       "      <td>28782</td>\n",
       "      <td>Ground Flr, 6750 Ayala Tower, 6750 Ayala Ave</td>\n",
       "    </tr>\n",
       "    <tr>\n",
       "      <th>7</th>\n",
       "      <td>4f7b3de0e4b03c16c03f9e29</td>\n",
       "      <td>Starbucks Coffee</td>\n",
       "      <td>14.680479</td>\n",
       "      <td>121.031785</td>\n",
       "      <td>18986</td>\n",
       "      <td>St. Charbel St</td>\n",
       "    </tr>\n",
       "    <tr>\n",
       "      <th>8</th>\n",
       "      <td>4b71144cf964a52029392de3</td>\n",
       "      <td>Starbucks Coffee</td>\n",
       "      <td>14.630510</td>\n",
       "      <td>121.034510</td>\n",
       "      <td>28172</td>\n",
       "      <td>212 Tomas Morato Ave</td>\n",
       "    </tr>\n",
       "    <tr>\n",
       "      <th>9</th>\n",
       "      <td>52b91335498e393e561ad5b1</td>\n",
       "      <td>Starbucks Coffee</td>\n",
       "      <td>14.574494</td>\n",
       "      <td>121.062474</td>\n",
       "      <td>11133</td>\n",
       "      <td>Unit R1, Capitol Commons, Shaw Blvd., Pasig City</td>\n",
       "    </tr>\n",
       "    <tr>\n",
       "      <th>10</th>\n",
       "      <td>4b739687f964a5201cb52de3</td>\n",
       "      <td>Starbucks Coffee</td>\n",
       "      <td>14.536377</td>\n",
       "      <td>120.980791</td>\n",
       "      <td>14120</td>\n",
       "      <td>Ground Flr, SM Mall of Asia (IMAX Theatre)</td>\n",
       "    </tr>\n",
       "    <tr>\n",
       "      <th>11</th>\n",
       "      <td>4c84497088e6199cd838c3d4</td>\n",
       "      <td>Starbucks Coffee</td>\n",
       "      <td>14.765559</td>\n",
       "      <td>120.962600</td>\n",
       "      <td>15080</td>\n",
       "      <td>Petron Service Station, North Luzon Expressway</td>\n",
       "    </tr>\n",
       "    <tr>\n",
       "      <th>12</th>\n",
       "      <td>4ba0363ef964a520da6137e3</td>\n",
       "      <td>Starbucks Coffee</td>\n",
       "      <td>14.553699</td>\n",
       "      <td>121.019758</td>\n",
       "      <td>15887</td>\n",
       "      <td>Ground Flr, Greenbelt 1, Paseo de Roxas Ave</td>\n",
       "    </tr>\n",
       "    <tr>\n",
       "      <th>13</th>\n",
       "      <td>4b8cf865f964a520b2e232e3</td>\n",
       "      <td>Starbucks Coffee</td>\n",
       "      <td>14.551092</td>\n",
       "      <td>121.050121</td>\n",
       "      <td>19120</td>\n",
       "      <td>B:3 Bonifacio High Street, 7th Ave</td>\n",
       "    </tr>\n",
       "    <tr>\n",
       "      <th>14</th>\n",
       "      <td>4c07ae463cbed13ae0020cc0</td>\n",
       "      <td>Starbucks Coffee</td>\n",
       "      <td>14.621298</td>\n",
       "      <td>121.053814</td>\n",
       "      <td>23215</td>\n",
       "      <td>G/F Araneta Coliseum Circle</td>\n",
       "    </tr>\n",
       "    <tr>\n",
       "      <th>15</th>\n",
       "      <td>4c1b90333b2ab713b02b3325</td>\n",
       "      <td>Starbucks Coffee</td>\n",
       "      <td>14.645209</td>\n",
       "      <td>121.051826</td>\n",
       "      <td>17717</td>\n",
       "      <td>243 Matalino St, Central, Diliman, Quezon City</td>\n",
       "    </tr>\n",
       "    <tr>\n",
       "      <th>16</th>\n",
       "      <td>5018e91ae4b0d57076745d31</td>\n",
       "      <td>Starbucks Coffee</td>\n",
       "      <td>14.571528</td>\n",
       "      <td>121.048350</td>\n",
       "      <td>10724</td>\n",
       "      <td>Upper Ground Flr, Forum Robinsons, Epifanio de...</td>\n",
       "    </tr>\n",
       "    <tr>\n",
       "      <th>17</th>\n",
       "      <td>4bc0831f920eb713c0fe182c</td>\n",
       "      <td>Starbucks Coffee</td>\n",
       "      <td>14.550895</td>\n",
       "      <td>121.055828</td>\n",
       "      <td>10776</td>\n",
       "      <td>Ground Flr, Market! Market!</td>\n",
       "    </tr>\n",
       "    <tr>\n",
       "      <th>18</th>\n",
       "      <td>4b8bb631f964a520fea732e3</td>\n",
       "      <td>Starbucks Coffee</td>\n",
       "      <td>14.609654</td>\n",
       "      <td>121.081191</td>\n",
       "      <td>25725</td>\n",
       "      <td>Ground Flr, Eastwood City Walk 2</td>\n",
       "    </tr>\n",
       "    <tr>\n",
       "      <th>19</th>\n",
       "      <td>4bb07bc3f964a520b4473ce3</td>\n",
       "      <td>Starbucks Coffee</td>\n",
       "      <td>14.618011</td>\n",
       "      <td>120.985372</td>\n",
       "      <td>17924</td>\n",
       "      <td>Upper Ground Flr, SM City San Lazaro</td>\n",
       "    </tr>\n",
       "    <tr>\n",
       "      <th>20</th>\n",
       "      <td>4b5d3d15f964a520725729e3</td>\n",
       "      <td>Starbucks Coffee</td>\n",
       "      <td>14.561061</td>\n",
       "      <td>121.027365</td>\n",
       "      <td>11686</td>\n",
       "      <td>G/F Pacific Star Bldg, Makati Ave</td>\n",
       "    </tr>\n",
       "    <tr>\n",
       "      <th>21</th>\n",
       "      <td>4b87f48ef964a5200dd531e3</td>\n",
       "      <td>Starbucks Coffee</td>\n",
       "      <td>14.562810</td>\n",
       "      <td>120.995012</td>\n",
       "      <td>16426</td>\n",
       "      <td>G/F Torre Lorenzo Plaza, Pablo Ocampo Sr Ave</td>\n",
       "    </tr>\n",
       "    <tr>\n",
       "      <th>22</th>\n",
       "      <td>4bf0f938a09076b0a9c829d4</td>\n",
       "      <td>Starbucks Coffee</td>\n",
       "      <td>14.606072</td>\n",
       "      <td>121.018749</td>\n",
       "      <td>16496</td>\n",
       "      <td>Ground Flr, Mezza Residences</td>\n",
       "    </tr>\n",
       "    <tr>\n",
       "      <th>23</th>\n",
       "      <td>502f9034e4b047efed701d5d</td>\n",
       "      <td>Starbucks Coffee</td>\n",
       "      <td>14.602208</td>\n",
       "      <td>121.079709</td>\n",
       "      <td>12860</td>\n",
       "      <td>Metropoli Dr</td>\n",
       "    </tr>\n",
       "    <tr>\n",
       "      <th>24</th>\n",
       "      <td>4b605b82f964a52086e129e3</td>\n",
       "      <td>Starbucks Coffee</td>\n",
       "      <td>14.562671</td>\n",
       "      <td>121.022494</td>\n",
       "      <td>9612</td>\n",
       "      <td>G/F, GS Yupangco Bldg, Jupiter St</td>\n",
       "    </tr>\n",
       "    <tr>\n",
       "      <th>25</th>\n",
       "      <td>50c933bce4b0ae820c015375</td>\n",
       "      <td>The Coffee Bean &amp; Tea Leaf</td>\n",
       "      <td>14.550153</td>\n",
       "      <td>121.024796</td>\n",
       "      <td>7921</td>\n",
       "      <td>Ground Flr, Glorietta 2</td>\n",
       "    </tr>\n",
       "    <tr>\n",
       "      <th>26</th>\n",
       "      <td>56393fd0cd104fbea06ae3dd</td>\n",
       "      <td>Starbucks Coffee</td>\n",
       "      <td>14.623490</td>\n",
       "      <td>121.113914</td>\n",
       "      <td>3119</td>\n",
       "      <td>Marcos Hwy, Brgy Mayamot</td>\n",
       "    </tr>\n",
       "    <tr>\n",
       "      <th>27</th>\n",
       "      <td>4ba3b0def964a520df5438e3</td>\n",
       "      <td>Starbucks Coffee</td>\n",
       "      <td>14.830937</td>\n",
       "      <td>120.908929</td>\n",
       "      <td>15007</td>\n",
       "      <td>Shell Oasis, North Luzon Expressway</td>\n",
       "    </tr>\n",
       "    <tr>\n",
       "      <th>28</th>\n",
       "      <td>4cc5fad0bde8f04d544eb44b</td>\n",
       "      <td>Starbucks Coffee</td>\n",
       "      <td>14.640414</td>\n",
       "      <td>121.000510</td>\n",
       "      <td>14779</td>\n",
       "      <td>Ground Flr, Banawe Square</td>\n",
       "    </tr>\n",
       "    <tr>\n",
       "      <th>29</th>\n",
       "      <td>4c6c91a765eda093007c4cd0</td>\n",
       "      <td>Starbucks Coffee</td>\n",
       "      <td>14.551975</td>\n",
       "      <td>121.022022</td>\n",
       "      <td>25435</td>\n",
       "      <td>G/F Greenbelt 3, Makati Ave</td>\n",
       "    </tr>\n",
       "    <tr>\n",
       "      <th>...</th>\n",
       "      <td>...</td>\n",
       "      <td>...</td>\n",
       "      <td>...</td>\n",
       "      <td>...</td>\n",
       "      <td>...</td>\n",
       "      <td>...</td>\n",
       "    </tr>\n",
       "    <tr>\n",
       "      <th>4754</th>\n",
       "      <td>5285ea0b498eac32e5ef6e8a</td>\n",
       "      <td>Cafe-UK Co.</td>\n",
       "      <td>14.608630</td>\n",
       "      <td>120.987456</td>\n",
       "      <td>8372</td>\n",
       "      <td>1233 J. Barlin St</td>\n",
       "    </tr>\n",
       "    <tr>\n",
       "      <th>4755</th>\n",
       "      <td>51ff4d1e8bbd7a2235586f05</td>\n",
       "      <td>CAFÉ+ Coffee.Brunch.Dessert</td>\n",
       "      <td>14.869520</td>\n",
       "      <td>120.860697</td>\n",
       "      <td>3054</td>\n",
       "      <td>Maharlika Hi-way</td>\n",
       "    </tr>\n",
       "    <tr>\n",
       "      <th>4756</th>\n",
       "      <td>4b638617f964a520bd802ae3</td>\n",
       "      <td>UCC Café Terrace</td>\n",
       "      <td>14.552620</td>\n",
       "      <td>121.044431</td>\n",
       "      <td>6347</td>\n",
       "      <td>Burgos Circle</td>\n",
       "    </tr>\n",
       "    <tr>\n",
       "      <th>4757</th>\n",
       "      <td>50e562eae4b0515dcd5e2d20</td>\n",
       "      <td>Bellini's Cafe and Restaurant</td>\n",
       "      <td>14.637345</td>\n",
       "      <td>121.097356</td>\n",
       "      <td>542</td>\n",
       "      <td>Shoe Avenue, Sto. Nino</td>\n",
       "    </tr>\n",
       "    <tr>\n",
       "      <th>4758</th>\n",
       "      <td>50ed4ecee4b0114e7184a905</td>\n",
       "      <td>UCC Park Café</td>\n",
       "      <td>14.614188</td>\n",
       "      <td>121.038468</td>\n",
       "      <td>2038</td>\n",
       "      <td>Upper Ground Flr, Robinsons Magnolia</td>\n",
       "    </tr>\n",
       "    <tr>\n",
       "      <th>4759</th>\n",
       "      <td>4c51ed19b6dabe9a4d9a8512</td>\n",
       "      <td>Café France</td>\n",
       "      <td>14.508995</td>\n",
       "      <td>121.012721</td>\n",
       "      <td>4081</td>\n",
       "      <td>Terminal 2, Domestic Area, Ninoy Aquino Intern...</td>\n",
       "    </tr>\n",
       "    <tr>\n",
       "      <th>4760</th>\n",
       "      <td>4bcef7f2fb84c9b69a8c243e</td>\n",
       "      <td>UCC Vienna Café</td>\n",
       "      <td>14.599895</td>\n",
       "      <td>121.069266</td>\n",
       "      <td>4599</td>\n",
       "      <td>Corinthian Hills Clubhouse</td>\n",
       "    </tr>\n",
       "    <tr>\n",
       "      <th>4761</th>\n",
       "      <td>51723d2ee4b05eedc5ccc3d4</td>\n",
       "      <td>Café Kivhan Coffee®</td>\n",
       "      <td>14.608386</td>\n",
       "      <td>120.987859</td>\n",
       "      <td>3994</td>\n",
       "      <td>1055 P Noval St, Sampaloc</td>\n",
       "    </tr>\n",
       "    <tr>\n",
       "      <th>4762</th>\n",
       "      <td>4f604708e4b0ba0ce01b76cb</td>\n",
       "      <td>UCC Café Terrace</td>\n",
       "      <td>14.549991</td>\n",
       "      <td>121.044327</td>\n",
       "      <td>2232</td>\n",
       "      <td>Forbes Town Center</td>\n",
       "    </tr>\n",
       "    <tr>\n",
       "      <th>4763</th>\n",
       "      <td>4bdc2da6f1499c743a6338f3</td>\n",
       "      <td>UCC Park Café</td>\n",
       "      <td>14.609140</td>\n",
       "      <td>121.080101</td>\n",
       "      <td>2987</td>\n",
       "      <td>Ground Level, Eastwood Mall</td>\n",
       "    </tr>\n",
       "    <tr>\n",
       "      <th>4764</th>\n",
       "      <td>55856edf498ebc42a0589687</td>\n",
       "      <td>Book &amp; Borders Café</td>\n",
       "      <td>14.629190</td>\n",
       "      <td>121.034067</td>\n",
       "      <td>1111</td>\n",
       "      <td>Tomas Morato Avenue</td>\n",
       "    </tr>\n",
       "    <tr>\n",
       "      <th>4765</th>\n",
       "      <td>4ba0e495f964a520338537e3</td>\n",
       "      <td>UCC Café Terrace</td>\n",
       "      <td>14.421806</td>\n",
       "      <td>121.034290</td>\n",
       "      <td>2734</td>\n",
       "      <td>Westgate Center Alabang</td>\n",
       "    </tr>\n",
       "    <tr>\n",
       "      <th>4766</th>\n",
       "      <td>4c333510213c2d7f5f85365d</td>\n",
       "      <td>Café de Lipa</td>\n",
       "      <td>14.550559</td>\n",
       "      <td>121.055303</td>\n",
       "      <td>2667</td>\n",
       "      <td>G/F Market! Market!</td>\n",
       "    </tr>\n",
       "    <tr>\n",
       "      <th>4767</th>\n",
       "      <td>4bef76def2712d7fc2d7fbd8</td>\n",
       "      <td>UCC Vienna Café</td>\n",
       "      <td>14.552818</td>\n",
       "      <td>121.022319</td>\n",
       "      <td>2621</td>\n",
       "      <td>3rd Flr, Greenbelt 5</td>\n",
       "    </tr>\n",
       "    <tr>\n",
       "      <th>4768</th>\n",
       "      <td>4bc2f1acb492d13a6110a860</td>\n",
       "      <td>UCC Vienna Café</td>\n",
       "      <td>14.534351</td>\n",
       "      <td>120.982550</td>\n",
       "      <td>1916</td>\n",
       "      <td>2nd Flr, SM Mall of Asia (Main Mall)</td>\n",
       "    </tr>\n",
       "    <tr>\n",
       "      <th>4769</th>\n",
       "      <td>54fe8858498edf0d9c218e50</td>\n",
       "      <td>Velvet Friends Cat Cafe</td>\n",
       "      <td>14.537904</td>\n",
       "      <td>120.989769</td>\n",
       "      <td>446</td>\n",
       "      <td>unit 219, 2nd flr., cluster H, Blue bay walk</td>\n",
       "    </tr>\n",
       "    <tr>\n",
       "      <th>4770</th>\n",
       "      <td>4d1098e0a3d9721e06e4d5fd</td>\n",
       "      <td>UCC Park Café Express</td>\n",
       "      <td>14.547374</td>\n",
       "      <td>121.026721</td>\n",
       "      <td>2623</td>\n",
       "      <td>Petron Service Station</td>\n",
       "    </tr>\n",
       "    <tr>\n",
       "      <th>4771</th>\n",
       "      <td>4c6ecd84df6b8cfa5e33b34d</td>\n",
       "      <td>UCC Café Terrace</td>\n",
       "      <td>14.518787</td>\n",
       "      <td>121.019928</td>\n",
       "      <td>3320</td>\n",
       "      <td>Newport Mall, Resorts World Manila</td>\n",
       "    </tr>\n",
       "    <tr>\n",
       "      <th>4772</th>\n",
       "      <td>4bc86d970050b7131c50ba3b</td>\n",
       "      <td>UCC Vienna Café</td>\n",
       "      <td>14.585972</td>\n",
       "      <td>121.059433</td>\n",
       "      <td>3542</td>\n",
       "      <td>Ground Flr, The Podium</td>\n",
       "    </tr>\n",
       "    <tr>\n",
       "      <th>4773</th>\n",
       "      <td>4bec076e415e20a117f9e6bb</td>\n",
       "      <td>UCC Café Terrace</td>\n",
       "      <td>14.557749</td>\n",
       "      <td>121.022826</td>\n",
       "      <td>1813</td>\n",
       "      <td>Ground Flr, Paseo Center</td>\n",
       "    </tr>\n",
       "    <tr>\n",
       "      <th>4774</th>\n",
       "      <td>5435042e498e3d69552f11f8</td>\n",
       "      <td>Cafe Ilustrio</td>\n",
       "      <td>14.698117</td>\n",
       "      <td>121.062665</td>\n",
       "      <td>159</td>\n",
       "      <td>Brescia Lilac Ave</td>\n",
       "    </tr>\n",
       "    <tr>\n",
       "      <th>4775</th>\n",
       "      <td>4d4d71bc87362c0f702bd182</td>\n",
       "      <td>Don Antonio Café</td>\n",
       "      <td>14.526390</td>\n",
       "      <td>121.152959</td>\n",
       "      <td>646</td>\n",
       "      <td>Angono, Rizal</td>\n",
       "    </tr>\n",
       "    <tr>\n",
       "      <th>4776</th>\n",
       "      <td>53170da5498e731869ab3101</td>\n",
       "      <td>Drift Cafe</td>\n",
       "      <td>14.643790</td>\n",
       "      <td>121.074495</td>\n",
       "      <td>51</td>\n",
       "      <td>Katipunan Ave</td>\n",
       "    </tr>\n",
       "    <tr>\n",
       "      <th>4777</th>\n",
       "      <td>50a638efe4b04eb9cbfe74a3</td>\n",
       "      <td>Illy Café Delizio</td>\n",
       "      <td>14.550101</td>\n",
       "      <td>121.025741</td>\n",
       "      <td>281</td>\n",
       "      <td>Ground Flr, National Book Store, Glorietta 1</td>\n",
       "    </tr>\n",
       "    <tr>\n",
       "      <th>4778</th>\n",
       "      <td>4ee04970754ad33b5bc67081</td>\n",
       "      <td>Le Amoretto Cafe and Bar</td>\n",
       "      <td>14.520289</td>\n",
       "      <td>121.012999</td>\n",
       "      <td>471</td>\n",
       "      <td>NAIA Terminal 3</td>\n",
       "    </tr>\n",
       "    <tr>\n",
       "      <th>4779</th>\n",
       "      <td>4e5b116c1fc7864a236ad263</td>\n",
       "      <td>Island Cove Cafe</td>\n",
       "      <td>14.461314</td>\n",
       "      <td>120.922271</td>\n",
       "      <td>164</td>\n",
       "      <td>Island Cove Resort and Leisure Park</td>\n",
       "    </tr>\n",
       "    <tr>\n",
       "      <th>4780</th>\n",
       "      <td>4e0c6434aeb7af850d68112c</td>\n",
       "      <td>Cafe Agnes</td>\n",
       "      <td>14.617451</td>\n",
       "      <td>121.099672</td>\n",
       "      <td>117</td>\n",
       "      <td>Sta. Lucia East Grand mall</td>\n",
       "    </tr>\n",
       "    <tr>\n",
       "      <th>4781</th>\n",
       "      <td>4eef1691722ea77619855ccd</td>\n",
       "      <td>Fior Cafe 3rd Level SM North Edsa</td>\n",
       "      <td>14.656303</td>\n",
       "      <td>121.032326</td>\n",
       "      <td>153</td>\n",
       "      <td>SM City North EDSA</td>\n",
       "    </tr>\n",
       "    <tr>\n",
       "      <th>4782</th>\n",
       "      <td>4fe2debbe4b044a5595e6d76</td>\n",
       "      <td>RawMatters Café</td>\n",
       "      <td>14.644213</td>\n",
       "      <td>121.027300</td>\n",
       "      <td>132</td>\n",
       "      <td>53 West Ave</td>\n",
       "    </tr>\n",
       "    <tr>\n",
       "      <th>4783</th>\n",
       "      <td>50167a6ae4b0be172cb12764</td>\n",
       "      <td>Cheesecake Café</td>\n",
       "      <td>14.601181</td>\n",
       "      <td>121.053702</td>\n",
       "      <td>89</td>\n",
       "      <td>Northeast Square</td>\n",
       "    </tr>\n",
       "  </tbody>\n",
       "</table>\n",
       "<p>4784 rows × 6 columns</p>\n",
       "</div>"
      ],
      "text/plain": [
       "                            id                               name        lat  \\\n",
       "0     4b78d398f964a520cee32ee3                   Starbucks Coffee  14.734710   \n",
       "1     53055beb498e87041e7204f9                   Starbucks Coffee  14.735735   \n",
       "2     4bc1f1a6f8219c74a0f7b310         The Coffee Bean & Tea Leaf  14.736308   \n",
       "3     4e5b077352b1b78b81b213b9                   Starbucks Coffee  14.734639   \n",
       "4     4ceb3522e888f04d2161516b                   Starbucks Coffee  14.553593   \n",
       "5     5312cb21498e14478618f0b1              Seattle's Best Coffee  14.737156   \n",
       "6     4dd26268cc3f7f8c122e7e1e                   Starbucks Coffee  14.552860   \n",
       "7     4f7b3de0e4b03c16c03f9e29                   Starbucks Coffee  14.680479   \n",
       "8     4b71144cf964a52029392de3                   Starbucks Coffee  14.630510   \n",
       "9     52b91335498e393e561ad5b1                   Starbucks Coffee  14.574494   \n",
       "10    4b739687f964a5201cb52de3                   Starbucks Coffee  14.536377   \n",
       "11    4c84497088e6199cd838c3d4                   Starbucks Coffee  14.765559   \n",
       "12    4ba0363ef964a520da6137e3                   Starbucks Coffee  14.553699   \n",
       "13    4b8cf865f964a520b2e232e3                   Starbucks Coffee  14.551092   \n",
       "14    4c07ae463cbed13ae0020cc0                   Starbucks Coffee  14.621298   \n",
       "15    4c1b90333b2ab713b02b3325                   Starbucks Coffee  14.645209   \n",
       "16    5018e91ae4b0d57076745d31                   Starbucks Coffee  14.571528   \n",
       "17    4bc0831f920eb713c0fe182c                   Starbucks Coffee  14.550895   \n",
       "18    4b8bb631f964a520fea732e3                   Starbucks Coffee  14.609654   \n",
       "19    4bb07bc3f964a520b4473ce3                   Starbucks Coffee  14.618011   \n",
       "20    4b5d3d15f964a520725729e3                   Starbucks Coffee  14.561061   \n",
       "21    4b87f48ef964a5200dd531e3                   Starbucks Coffee  14.562810   \n",
       "22    4bf0f938a09076b0a9c829d4                   Starbucks Coffee  14.606072   \n",
       "23    502f9034e4b047efed701d5d                   Starbucks Coffee  14.602208   \n",
       "24    4b605b82f964a52086e129e3                   Starbucks Coffee  14.562671   \n",
       "25    50c933bce4b0ae820c015375         The Coffee Bean & Tea Leaf  14.550153   \n",
       "26    56393fd0cd104fbea06ae3dd                   Starbucks Coffee  14.623490   \n",
       "27    4ba3b0def964a520df5438e3                   Starbucks Coffee  14.830937   \n",
       "28    4cc5fad0bde8f04d544eb44b                   Starbucks Coffee  14.640414   \n",
       "29    4c6c91a765eda093007c4cd0                   Starbucks Coffee  14.551975   \n",
       "...                        ...                                ...        ...   \n",
       "4754  5285ea0b498eac32e5ef6e8a                        Cafe-UK Co.  14.608630   \n",
       "4755  51ff4d1e8bbd7a2235586f05        CAFÉ+ Coffee.Brunch.Dessert  14.869520   \n",
       "4756  4b638617f964a520bd802ae3                   UCC Café Terrace  14.552620   \n",
       "4757  50e562eae4b0515dcd5e2d20      Bellini's Cafe and Restaurant  14.637345   \n",
       "4758  50ed4ecee4b0114e7184a905                      UCC Park Café  14.614188   \n",
       "4759  4c51ed19b6dabe9a4d9a8512                        Café France  14.508995   \n",
       "4760  4bcef7f2fb84c9b69a8c243e                    UCC Vienna Café  14.599895   \n",
       "4761  51723d2ee4b05eedc5ccc3d4                Café Kivhan Coffee®  14.608386   \n",
       "4762  4f604708e4b0ba0ce01b76cb                   UCC Café Terrace  14.549991   \n",
       "4763  4bdc2da6f1499c743a6338f3                      UCC Park Café  14.609140   \n",
       "4764  55856edf498ebc42a0589687                Book & Borders Café  14.629190   \n",
       "4765  4ba0e495f964a520338537e3                   UCC Café Terrace  14.421806   \n",
       "4766  4c333510213c2d7f5f85365d                       Café de Lipa  14.550559   \n",
       "4767  4bef76def2712d7fc2d7fbd8                    UCC Vienna Café  14.552818   \n",
       "4768  4bc2f1acb492d13a6110a860                    UCC Vienna Café  14.534351   \n",
       "4769  54fe8858498edf0d9c218e50            Velvet Friends Cat Cafe  14.537904   \n",
       "4770  4d1098e0a3d9721e06e4d5fd              UCC Park Café Express  14.547374   \n",
       "4771  4c6ecd84df6b8cfa5e33b34d                   UCC Café Terrace  14.518787   \n",
       "4772  4bc86d970050b7131c50ba3b                    UCC Vienna Café  14.585972   \n",
       "4773  4bec076e415e20a117f9e6bb                   UCC Café Terrace  14.557749   \n",
       "4774  5435042e498e3d69552f11f8                      Cafe Ilustrio  14.698117   \n",
       "4775  4d4d71bc87362c0f702bd182                   Don Antonio Café  14.526390   \n",
       "4776  53170da5498e731869ab3101                         Drift Cafe  14.643790   \n",
       "4777  50a638efe4b04eb9cbfe74a3                  Illy Café Delizio  14.550101   \n",
       "4778  4ee04970754ad33b5bc67081           Le Amoretto Cafe and Bar  14.520289   \n",
       "4779  4e5b116c1fc7864a236ad263                   Island Cove Cafe  14.461314   \n",
       "4780  4e0c6434aeb7af850d68112c                         Cafe Agnes  14.617451   \n",
       "4781  4eef1691722ea77619855ccd  Fior Cafe 3rd Level SM North Edsa  14.656303   \n",
       "4782  4fe2debbe4b044a5595e6d76                    RawMatters Café  14.644213   \n",
       "4783  50167a6ae4b0be172cb12764                    Cheesecake Café  14.601181   \n",
       "\n",
       "             lng  checkins                                            address  \n",
       "0     121.057599     10428             Ground Flr, SM City Fairview (Annex 1)  \n",
       "1     121.060213      3793                     Fairview Terraces, Quirino Hwy  \n",
       "2     121.058135     17441                    G/F Gateway Mall, Gen Roxas Ave  \n",
       "3     121.059474      4116              2nd Flr, SM City Fairview (Main Bldg)  \n",
       "4     121.050662     40149                  Crossroads, Bonifacio Global City  \n",
       "5     121.059300      1228                     Fairview Terraces, Quirino Hwy  \n",
       "6     121.025119     28782       Ground Flr, 6750 Ayala Tower, 6750 Ayala Ave  \n",
       "7     121.031785     18986                                     St. Charbel St  \n",
       "8     121.034510     28172                               212 Tomas Morato Ave  \n",
       "9     121.062474     11133   Unit R1, Capitol Commons, Shaw Blvd., Pasig City  \n",
       "10    120.980791     14120         Ground Flr, SM Mall of Asia (IMAX Theatre)  \n",
       "11    120.962600     15080     Petron Service Station, North Luzon Expressway  \n",
       "12    121.019758     15887        Ground Flr, Greenbelt 1, Paseo de Roxas Ave  \n",
       "13    121.050121     19120                 B:3 Bonifacio High Street, 7th Ave  \n",
       "14    121.053814     23215                        G/F Araneta Coliseum Circle  \n",
       "15    121.051826     17717     243 Matalino St, Central, Diliman, Quezon City  \n",
       "16    121.048350     10724  Upper Ground Flr, Forum Robinsons, Epifanio de...  \n",
       "17    121.055828     10776                        Ground Flr, Market! Market!  \n",
       "18    121.081191     25725                   Ground Flr, Eastwood City Walk 2  \n",
       "19    120.985372     17924               Upper Ground Flr, SM City San Lazaro  \n",
       "20    121.027365     11686                  G/F Pacific Star Bldg, Makati Ave  \n",
       "21    120.995012     16426       G/F Torre Lorenzo Plaza, Pablo Ocampo Sr Ave  \n",
       "22    121.018749     16496                       Ground Flr, Mezza Residences  \n",
       "23    121.079709     12860                                       Metropoli Dr  \n",
       "24    121.022494      9612                  G/F, GS Yupangco Bldg, Jupiter St  \n",
       "25    121.024796      7921                            Ground Flr, Glorietta 2  \n",
       "26    121.113914      3119                           Marcos Hwy, Brgy Mayamot  \n",
       "27    120.908929     15007                Shell Oasis, North Luzon Expressway  \n",
       "28    121.000510     14779                          Ground Flr, Banawe Square  \n",
       "29    121.022022     25435                        G/F Greenbelt 3, Makati Ave  \n",
       "...          ...       ...                                                ...  \n",
       "4754  120.987456      8372                                  1233 J. Barlin St  \n",
       "4755  120.860697      3054                                   Maharlika Hi-way  \n",
       "4756  121.044431      6347                                      Burgos Circle  \n",
       "4757  121.097356       542                             Shoe Avenue, Sto. Nino  \n",
       "4758  121.038468      2038               Upper Ground Flr, Robinsons Magnolia  \n",
       "4759  121.012721      4081  Terminal 2, Domestic Area, Ninoy Aquino Intern...  \n",
       "4760  121.069266      4599                         Corinthian Hills Clubhouse  \n",
       "4761  120.987859      3994                          1055 P Noval St, Sampaloc  \n",
       "4762  121.044327      2232                                 Forbes Town Center  \n",
       "4763  121.080101      2987                        Ground Level, Eastwood Mall  \n",
       "4764  121.034067      1111                                Tomas Morato Avenue  \n",
       "4765  121.034290      2734                            Westgate Center Alabang  \n",
       "4766  121.055303      2667                                G/F Market! Market!  \n",
       "4767  121.022319      2621                               3rd Flr, Greenbelt 5  \n",
       "4768  120.982550      1916               2nd Flr, SM Mall of Asia (Main Mall)  \n",
       "4769  120.989769       446       unit 219, 2nd flr., cluster H, Blue bay walk  \n",
       "4770  121.026721      2623                             Petron Service Station  \n",
       "4771  121.019928      3320                 Newport Mall, Resorts World Manila  \n",
       "4772  121.059433      3542                             Ground Flr, The Podium  \n",
       "4773  121.022826      1813                           Ground Flr, Paseo Center  \n",
       "4774  121.062665       159                                  Brescia Lilac Ave  \n",
       "4775  121.152959       646                                      Angono, Rizal  \n",
       "4776  121.074495        51                                      Katipunan Ave  \n",
       "4777  121.025741       281       Ground Flr, National Book Store, Glorietta 1  \n",
       "4778  121.012999       471                                    NAIA Terminal 3  \n",
       "4779  120.922271       164                Island Cove Resort and Leisure Park  \n",
       "4780  121.099672       117                         Sta. Lucia East Grand mall  \n",
       "4781  121.032326       153                                 SM City North EDSA  \n",
       "4782  121.027300       132                                        53 West Ave  \n",
       "4783  121.053702        89                                   Northeast Square  \n",
       "\n",
       "[4784 rows x 6 columns]"
      ]
     },
     "execution_count": 11,
     "metadata": {},
     "output_type": "execute_result"
    }
   ],
   "source": [
    "df"
   ]
  },
  {
   "cell_type": "code",
   "execution_count": null,
   "metadata": {
    "collapsed": true
   },
   "outputs": [],
   "source": []
  },
  {
   "cell_type": "markdown",
   "metadata": {},
   "source": [
    "%matplotlib inline\n",
    "\n",
    "import numpy as np\n",
    "import matplotlib.pyplot as plt\n",
    "\n",
    "x = np.arange(0,30)\n",
    "a = np.arange(10,40)\n",
    "b = [b**2 for b in range(0,30)]\n",
    "c = [100 for c in range(0,30)]\n",
    "\n",
    "plt.style.use('fivethirtyeight')\n",
    "\n",
    "plt.title(\"Some Functions\")\n",
    "plt.plot(x,a, label='linear')\n",
    "plt.plot(x,b, label='exponential')\n",
    "plt.plot(x,c, label='flat')\n",
    "plt.legend(loc='upper left', frameon=True)\n",
    "plt.ylabel('The Y Label')\n",
    "plt.xlabel('The X Label')"
   ]
  },
  {
   "cell_type": "code",
   "execution_count": 13,
   "metadata": {},
   "outputs": [
    {
     "data": {
      "text/plain": [
       "<matplotlib.text.Text at 0x105fea208>"
      ]
     },
     "execution_count": 13,
     "metadata": {},
     "output_type": "execute_result"
    },
    {
     "data": {
      "image/png": "[encoded data removed]",
      "text/plain": [
       "<matplotlib.figure.Figure at 0x1066030b8>"
      ]
     },
     "metadata": {},
     "output_type": "display_data"
    }
   ],
   "source": [
    "plt.figure(figsize=(10,8))\n",
    "\n",
    "plt.title(\"Some Functions\")\n",
    "plt.plot(x,a, label='linear')\n",
    "plt.plot(x,b, label='exponential')\n",
    "plt.plot(x,c, label='flat')\n",
    "plt.legend(loc='upper left', frameon=True)\n",
    "plt.ylabel('The Y Label')\n",
    "plt.xlabel('The X Label')"
   ]
  },
  {
   "cell_type": "markdown",
   "metadata": {},
   "source": [
    "### Jupyter Magics\n",
    "Magics are extra features by Jupyter. This carries over from its IPython terminal history."
   ]
  },
  {
   "cell_type": "code",
   "execution_count": 2,
   "metadata": {},
   "outputs": [
    {
     "name": "stdout",
     "output_type": "stream",
     "text": [
      "francis\n",
      "/Users/francis/Projects/python-lessons\n",
      "item: BasicPython01.ipynb\n",
      "item: BasicPython02.ipynb\n",
      "item: BasicPython03.ipynb\n",
      "item: BasicPython04.ipynb\n",
      "item: BasicPython05.ipynb\n",
      "item: Intro-to-Python.ipynb\n",
      "item: Jupyter\n",
      "item: Feature\n",
      "item: Demo.ipynb\n",
      "item: Matplotlib.ipynb\n",
      "item: Numpy.ipynb\n",
      "item: Pandas\n",
      "item: +\n",
      "item: Folium\n",
      "item: Demo.ipynb\n",
      "item: Pandas\n",
      "item: Demo.ipynb\n",
      "item: Pandas-Intro.ipynb\n",
      "item: README.md\n",
      "item: Test.ipynb\n",
      "item: assets\n",
      "item: coffeeshops.csv\n",
      "item: data\n"
     ]
    }
   ],
   "source": [
    "%%bash\n",
    "\n",
    "whoami\n",
    "\n",
    "pwd\n",
    "\n",
    "for i in $( ls ); do\n",
    "    echo item: $i\n",
    "done"
   ]
  },
  {
   "cell_type": "markdown",
   "metadata": {},
   "source": [
    "### Some More Magic\n",
    "\n",
    "It supports LaTeX, but for the other LaTeX features like tables or reference, it might be good to look into `IPython.display.Latex` for added functionality.\n",
    "\n",
    "----\n",
    "\n",
    "*Roots and Squares*\n",
    "$$c = \\sqrt{a^2 + b^2}$$\n",
    "\n",
    "*Integrals*\n",
    "$$ Integral \\int_{a}^{b} x^2 dx$$\n",
    "\n",
    "*Summations*\n",
    "$$\\sum_{n=1}^{\\infty} 2^{-n} = 1$$\n",
    "\n",
    "*Limits*\n",
    "$$\\lim_{x\\to\\infty} f(x)$$"
   ]
  },
  {
   "cell_type": "code",
   "execution_count": 3,
   "metadata": {},
   "outputs": [
    {
     "data": {
      "text/latex": [
       "\n",
       "\\begin{align}\n",
       "a = \\frac{1}{2} && b = \\frac{3}{4} && c = \\sqrt{a^2 + b^2}\n",
       "\\end{align}"
      ],
      "text/plain": [
       "<IPython.core.display.Latex object>"
      ]
     },
     "metadata": {},
     "output_type": "display_data"
    }
   ],
   "source": [
    "%%latex\n",
    "\n",
    "\\begin{align}\n",
    "a = \\frac{1}{2} && b = \\frac{3}{4} && c = \\sqrt{a^2 + b^2}\n",
    "\\end{align}"
   ]
  },
  {
   "cell_type": "markdown",
   "metadata": {},
   "source": [
    "#### Cross Product Formula\n"
   ]
  },
  {
   "cell_type": "code",
   "execution_count": 16,
   "metadata": {},
   "outputs": [
    {
     "data": {
      "text/latex": [
       "\\begin{equation*}\n",
       "\\mathbf{V}_1 \\times \\mathbf{V}_2 =  \\begin{vmatrix}\n",
       "\\mathbf{i} & \\mathbf{j} & \\mathbf{k} \\\\\n",
       "\\frac{\\partial X}{\\partial u} &  \\frac{\\partial Y}{\\partial u} & 0 \\\\\n",
       "\\frac{\\partial X}{\\partial v} &  \\frac{\\partial Y}{\\partial v} & 0\n",
       "\\end{vmatrix}\n",
       "\\end{equation*}"
      ],
      "text/plain": [
       "<IPython.core.display.Latex object>"
      ]
     },
     "metadata": {},
     "output_type": "display_data"
    }
   ],
   "source": [
    "%%latex\n",
    "\\begin{equation*}\n",
    "\\mathbf{V}_1 \\times \\mathbf{V}_2 =  \\begin{vmatrix}\n",
    "\\mathbf{i} & \\mathbf{j} & \\mathbf{k} \\\\\n",
    "\\frac{\\partial X}{\\partial u} &  \\frac{\\partial Y}{\\partial u} & 0 \\\\\n",
    "\\frac{\\partial X}{\\partial v} &  \\frac{\\partial Y}{\\partial v} & 0\n",
    "\\end{vmatrix}\n",
    "\\end{equation*}"
   ]
  },
  {
   "cell_type": "markdown",
   "metadata": {},
   "source": [
    "#### Inline TeX entries"
   ]
  },
  {
   "cell_type": "code",
   "execution_count": 17,
   "metadata": {},
   "outputs": [
    {
     "data": {
      "text/latex": [
       "This expression $\\sqrt{3x-1}+(1+x)^2$ is an example of a TeX inline equation in a text block."
      ],
      "text/plain": [
       "<IPython.core.display.Latex object>"
      ]
     },
     "metadata": {},
     "output_type": "display_data"
    }
   ],
   "source": [
    "%%latex\n",
    "This expression $\\sqrt{3x-1}+(1+x)^2$ is an example of a TeX inline equation in a text block."
   ]
  },
  {
   "cell_type": "markdown",
   "metadata": {},
   "source": [
    "### Widgets\n",
    "Jupyter has interfaces for input called widgets. These are best used with graphs and plots where custom input data is required. \n",
    "\n",
    "You can use widgets to build interactive GUIs for your notebooks when hosting them online. Widgets are also useful in syncing stateful and stateless information between Python and JavaScript.\n",
    "\n",
    "![alt text](assets/widgets.png)"
   ]
  },
  {
   "cell_type": "code",
   "execution_count": 1,
   "metadata": {},
   "outputs": [
    {
     "data": {
      "application/vnd.jupyter.widget-view+json": {
       "model_id": "9242ccbc529b405b92bf706dbc8ae801",
       "version_major": 2,
       "version_minor": 0
      },
      "text/plain": [
       "IntSlider(value=0)"
      ]
     },
     "metadata": {},
     "output_type": "display_data"
    }
   ],
   "source": [
    "from ipywidgets import *\n",
    "\n",
    "from IPython.display import display\n",
    "w = IntSlider()\n",
    "display(w)"
   ]
  },
  {
   "cell_type": "code",
   "execution_count": 2,
   "metadata": {},
   "outputs": [
    {
     "data": {
      "text/plain": [
       "23"
      ]
     },
     "execution_count": 2,
     "metadata": {},
     "output_type": "execute_result"
    }
   ],
   "source": [
    "w.value"
   ]
  },
  {
   "cell_type": "code",
   "execution_count": 3,
   "metadata": {},
   "outputs": [
    {
     "data": {
      "application/vnd.jupyter.widget-view+json": {
       "model_id": "b535813d2dc941f3895a77d13eaf8583",
       "version_major": 2,
       "version_minor": 0
      },
      "text/plain": [
       "Text(value='some text')"
      ]
     },
     "metadata": {},
     "output_type": "display_data"
    }
   ],
   "source": [
    "t = Text(value='some text')\n",
    "display(t)"
   ]
  },
  {
   "cell_type": "code",
   "execution_count": 4,
   "metadata": {},
   "outputs": [],
   "source": [
    "l = t.value.split(\" \")"
   ]
  },
  {
   "cell_type": "code",
   "execution_count": 5,
   "metadata": {},
   "outputs": [
    {
     "data": {
      "text/plain": [
       "['blah', 'n;ah']"
      ]
     },
     "execution_count": 5,
     "metadata": {},
     "output_type": "execute_result"
    }
   ],
   "source": [
    "l"
   ]
  },
  {
   "cell_type": "code",
   "execution_count": 16,
   "metadata": {},
   "outputs": [
    {
     "data": {
      "text/plain": [
       "[1, 2, 3, 4, 5]"
      ]
     },
     "execution_count": 16,
     "metadata": {},
     "output_type": "execute_result"
    }
   ],
   "source": [
    "m"
   ]
  },
  {
   "cell_type": "code",
   "execution_count": 18,
   "metadata": {
    "collapsed": true
   },
   "outputs": [],
   "source": [
    "p = []\n",
    "for x in l:\n",
    "    p.append(int(x))"
   ]
  },
  {
   "cell_type": "code",
   "execution_count": 19,
   "metadata": {},
   "outputs": [
    {
     "data": {
      "text/plain": [
       "[1, 2, 3, 4, 5]"
      ]
     },
     "execution_count": 19,
     "metadata": {},
     "output_type": "execute_result"
    }
   ],
   "source": [
    "p"
   ]
  },
  {
   "cell_type": "code",
   "execution_count": 26,
   "metadata": {
    "collapsed": true
   },
   "outputs": [],
   "source": [
    "a = \"apple\""
   ]
  },
  {
   "cell_type": "code",
   "execution_count": null,
   "metadata": {
    "collapsed": true
   },
   "outputs": [],
   "source": []
  },
  {
   "cell_type": "markdown",
   "metadata": {},
   "source": [
    "### Exporting the notebook to other formats\n",
    "\n",
    "Currently, nbconvert is provided as a command line tool, run as a script using IPython. A direct export capability from within the IPython Notebook web app is planned.\n",
    "\n",
    "`$ ipython nbconvert --to FORMAT notebook.ipynb`"
   ]
  },
  {
   "cell_type": "code",
   "execution_count": 21,
   "metadata": {},
   "outputs": [
    {
     "data": {
      "application/vnd.jupyter.widget-view+json": {
       "model_id": "d87904901c5c452c878132f12f20b608"
      }
     },
     "metadata": {},
     "output_type": "display_data"
    },
    {
     "data": {
      "application/vnd.jupyter.widget-view+json": {
       "model_id": "465ef4f39402473a886634a2450396d0"
      }
     },
     "metadata": {},
     "output_type": "display_data"
    }
   ],
   "source": [
    "i = 1\n",
    "from IPython.display import display\n",
    "button = widgets.Button(description=\"Text Something!\")\n",
    "button2 = widgets.Button(description=\"Text Something Part 2\")\n",
    "display(button)\n",
    "display(button2)\n",
    "\n",
    "\n",
    "def on_button_clicked(b):\n",
    "    print(i)\n",
    "\n",
    "def on_button_clicked2(b):\n",
    "    %reset\n",
    "    print(\"Button clicked 2.\")\n",
    "\n",
    "button.on_click(on_button_clicked)\n",
    "button2.on_click(on_button_clicked2)"
   ]
  },
  {
   "cell_type": "code",
   "execution_count": null,
   "metadata": {
    "collapsed": true
   },
   "outputs": [],
   "source": []
  },
  {
   "cell_type": "code",
   "execution_count": null,
   "metadata": {
    "collapsed": true
   },
   "outputs": [],
   "source": []
  }
 ],
 "metadata": {
  "kernelspec": {
   "display_name": "Python 3",
   "language": "python",
   "name": "python3"
  },
  "language_info": {
   "codemirror_mode": {
    "name": "ipython",
    "version": 3
   },
   "file_extension": ".py",
   "mimetype": "text/x-python",
   "name": "python",
   "nbconvert_exporter": "python",
   "pygments_lexer": "ipython3",
   "version": "3.7.0"
  },
  "widgets": {
   "state": {
    "14895477cea843f7ba1dd53d608d7799": {
     "views": [
      {
       "cell_index": 17
      }
     ]
    },
    "924fbe74983d40ddac505403d704371f": {
     "views": [
      {
       "cell_index": 19
      }
     ]
    }
   },
   "version": "1.2.0"
  }
 },
 "nbformat": 4,
 "nbformat_minor": 2
}
